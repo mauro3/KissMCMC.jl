{
 "cells": [
  {
   "cell_type": "markdown",
   "metadata": {},
   "source": [
    "# Baysian estimation of a harmonic oscillator\n",
    "\n",
    "These are general definitions to be included in all `bayesian-ex*` notbooks (done via including the identical `../bayesian-example-base.jl` file.\n",
    "\n",
    "This describes the\n",
    "\n",
    "- forward model\n",
    "- probabilistic model: likelihood, priors\n",
    "- some helpers, such as plotting"
   ]
  },
  {
   "cell_type": "code",
   "execution_count": 1,
   "metadata": {
    "collapsed": true
   },
   "outputs": [],
   "source": [
    "# Bookkeeping\n",
    "using KissMCMC\n",
    "using StatsBase\n",
    "using ODE\n",
    "import Compat.view\n",
    "if VERSION<v\"0.5-\"\n",
    "    eval(:(using FastAnonymous))\n",
    "else\n",
    "    macro anon(args)\n",
    "        args\n",
    "    end\n",
    "end"
   ]
  },
  {
   "cell_type": "markdown",
   "metadata": {},
   "source": [
    "## Deterministic forward model: harmonic oscillator\n",
    "\n",
    "$ẍ = - ω² x$\n",
    "\n",
    "with initial condition (IC): $x(0) = x0, v(0) = v0$\n",
    "\n",
    "Thus the model has three parameter (A, ω, ϕ) amplitude, circular frequency and phase (or equivalently ω, x0, v0).\n",
    "\n",
    "Note that there is a similar example here: https://github.com/QuantifyingUncertainty/GMHExamples.jl/blob/master/ode/notebooks/SpringMass1.ipynb"
   ]
  },
  {
   "cell_type": "code",
   "execution_count": 2,
   "metadata": {
    "collapsed": false
   },
   "outputs": [],
   "source": [
    "\n",
    "\"The differential equations of the forward model.  To be used with ODE.jl.\"\n",
    "function odes(t,y,ω)\n",
    "    x = y[1]\n",
    "    v = y[2]\n",
    "    return [v, -ω^2*x]\n",
    "end\n",
    "\"The analytic solution of the forward model\"\n",
    "function asol(t,A,ω,ϕ) # amplitude, circular frequency and phase\n",
    "    x =   A*sin(ω*t + ϕ)\n",
    "    v = ω*A*cos(ω*t + ϕ)\n",
    "    return x,v\n",
    "end\n",
    "\n",
    "\"\"\"\n",
    "The forward model using the analytic solution (faster).\n",
    "\n",
    "Input:\n",
    "- out -- in-place output array\n",
    "- theta - parameters (ts,A,ω,ϕ)\n",
    "\n",
    "Output:\n",
    "- out\n",
    "\"\"\"\n",
    "function _fwd_ana!(out,ts,A,ω,ϕ)\n",
    "    for (i,t) in enumerate(ts)\n",
    "        out[2i-1],out[2i] = asol(t,A,ω,ϕ)\n",
    "    end\n",
    "    return out\n",
    "end\n",
    "\n",
    "# Using @anon should make it faster on Julia-0.4\n",
    "fwd_ana! = @anon (out,ts,A,ω,ϕ) -> _fwd_ana!(out,ts,A,ω,ϕ)\n",
    "fwd_ana = (ts,A,ω,ϕ) -> (out=init_fwd(ts); _fwd_ana!(out,ts,A,ω,ϕ); out)\n",
    "\n",
    "\n",
    "\"\"\"\n",
    "\n",
    "The forward model using an ODE solver.  This is much slower than using\n",
    "the analytic solution but more representative of a \"real\" case.\n",
    "\n",
    "Input:\n",
    "- out -- in-place output (the MCMC samplers require this)\n",
    "- ts,A,ω,ϕ - parameters\n",
    "\n",
    "Output:\n",
    "- out\n",
    "\"\"\"\n",
    "function fwd_ode!(out,ts,A,ω,ϕ)\n",
    "    # make ICs from parameters:\n",
    "    x0,y0 = asol(0,A,ω,ϕ)\n",
    "    f = (t,y) -> odes(t,y,ω)\n",
    "    tout,yout = ode45(f, [x0,y0], ts,\n",
    "                      points=:specified,\n",
    "                      reltol=1e-4,\n",
    "                      abstol=1e-5)\n",
    "    for (i,y) in enumerate(yout)\n",
    "        out[2i-1] = y[1]\n",
    "        out[2i] = y[2]\n",
    "    end\n",
    "    return out\n",
    "end\n",
    "fwd_ode = (ts,A,ω,ϕ) -> (out=init_fwd(ts); fwd_ode!(out,ts,A,ω,ϕ); out)\n",
    "\n",
    "\"Initialize in-place output array, and length for fwd-paras.\"\n",
    "init_fwd(ts) = zeros(2*length(ts));"
   ]
  },
  {
   "cell_type": "markdown",
   "metadata": {},
   "source": [
    "## Probabilistic model\n",
    "\n",
    "Define a function to quantify a model vs measurements error. The standard is to assume a normal distributed mean square error."
   ]
  },
  {
   "cell_type": "code",
   "execution_count": 3,
   "metadata": {
    "collapsed": true
   },
   "outputs": [],
   "source": [
    "\"Square error of one observation.\"\n",
    "err1(y_measured, y_modelled) = (y_measured-y_modelled)^2\n",
    "\n",
    "\n",
    "\"\"\"\n",
    "Log-Likelihood for given input xv_measured and given forward model result.\n",
    "\n",
    "This assumes that the errors have a normal distribution with std-dev\n",
    "sigma.\n",
    "\n",
    "Input\n",
    "- fwdout -- result vector of forward model\n",
    "- xv_measured -- observation (x,v) points\n",
    "- sigma -- assumed std-dev of errors.  Can be a fitting parameter.\n",
    "\n",
    "Output:\n",
    "- likelihood\n",
    "\"\"\"\n",
    "function loglikelihood(fwdout, xv_measured, sigma)\n",
    "    out = zero(err1(xv_measured[1], fwdout[1]))\n",
    "    N = length(xv_measured)\n",
    "    for i=1:N\n",
    "        # Note the normalization term 1/2*log(2*pi*sigma^2) needs to\n",
    "        # be included when sigma is also a fitting parameter.\n",
    "        out -= err1(xv_measured[i], fwdout[i])/(sigma^2) + log(2*pi*sigma^2)\n",
    "    end\n",
    "    return out/2\n",
    "end\n",
    "function loglikelihood(fwdout, xv_measured, sigma::AbstractVector)\n",
    "    out = zero(err1(xv_measured[1], fwdout[1]))\n",
    "    N = length(xv_measured)\n",
    "    for i=1:N\n",
    "        out -= err1(xv_measured[i], fwdout[i])/(sigma[i]^2)  + log(sqrt(2*pi*sigma[i]^2))\n",
    "    end\n",
    "    return out/2\n",
    "end\n",
    "\n",
    "\"\"\"\n",
    "Log-Likelihood of a set of parameters for a forward model and for\n",
    "given input xv_measured.  To be defined.\n",
    "\n",
    "Should probably have a signature:\n",
    "loglikelihood!(theta)\n",
    "\n",
    "Modifies fwdout in-place\n",
    "\"\"\"\n",
    "function loglikelihood! end\n",
    "\n",
    "# \"\"\"\n",
    "# Draw a sample model-state from the likelihood for given parameters\n",
    "# theta at indices in fwdout_inds_pred.\n",
    "\n",
    "# Note: the fwdout_inds_pred vector passed into this function is likely\n",
    "# different to the one fwdout_inds passed into loglikelihood!.\n",
    "# \"\"\"\n",
    "# function sample_likelihood(fwdout, fwdout_inds_pred, theta, sigma)\n",
    "#     randn(length(fwdout[fwdout_inds_pred])).*sigma  + fwdout[fwdout_inds_pred]\n",
    "# end\n",
    "# function sample_likelihood(fwdout, fwdout_inds_pred, theta, sigma::AbstractVector)\n",
    "#     randn(length(fwdout[fwdout_inds_pred])).*sigma[fwdout_inds_pred]  + fwdout[fwdout_inds_pred]\n",
    "#end"
   ]
  },
  {
   "cell_type": "markdown",
   "metadata": {},
   "source": [
    "## Priors\n",
    "\n",
    "In the end I need a `pdf(theta)`.  For ease, assume that the prior for each parameter is independent."
   ]
  },
  {
   "cell_type": "code",
   "execution_count": 4,
   "metadata": {
    "collapsed": false
   },
   "outputs": [
    {
     "data": {
      "text/plain": [
       "logprior_sigma (generic function with 0 methods)"
      ]
     },
     "execution_count": 4,
     "metadata": {},
     "output_type": "execute_result"
    }
   ],
   "source": [
    "# suggested priors:\n",
    "function logprior_A end\n",
    "function logprior_ω end\n",
    "function logprior_ϕ end\n",
    "function logprior_ts end # sum of all ts priors\n",
    "function logprior_sigma end  # sum of all sigma priors\n",
    "\n",
    "# \"\"\"\n",
    "# Log-prior function\n",
    "\n",
    "# Input:\n",
    "\n",
    "# - parameters\n",
    "# - fixed parameters\n",
    "\n",
    "# Output\n",
    "# - log(prior)\n",
    "# \"\"\"\n",
    "# Suggested form:\n",
    "# logprior = @anon (thetas, N_fwd) -> (logprior_A(thetas[1]) + logprior_ω(thetas[2]) +\n",
    "#                                      logprior_ϕ(thetas[3]) + logprior_ts(thetas[4:N_fwd]) +\n",
    "#                                      logprior_sigma(thetas[N_fwd+1:length(thetas)]))"
   ]
  },
  {
   "cell_type": "markdown",
   "metadata": {},
   "source": [
    "## Synthetic measurements"
   ]
  },
  {
   "cell_type": "code",
   "execution_count": 9,
   "metadata": {
    "collapsed": false
   },
   "outputs": [],
   "source": [
    "\"\"\"\n",
    "Produce the synthetic xv_measured by running the forward model and adding noise.\n",
    "\n",
    "Input:\n",
    "    ts = 0:0.25:10, # time steps at which measurements are (supposed to be) taken\n",
    "    theta_true = [2.3, 7/pi, pi/7], # [A, ω, ϕ]\n",
    "    sigma_x = 0.3 # std deviations of measurement errors of x\n",
    "    sigma_v = 0.3 # std deviations of measurement errors of v\n",
    "    sigma_t = 0.1 # std deviation of time errors\n",
    "\n",
    "Output:\n",
    "- ts, xv_measured -- the measured xv_measured: measurement times and values\n",
    "- ts_true, xv_true  -- the true values of the system at the true measurement time\n",
    "\"\"\"\n",
    "function make_synthetic_measurements(;ts = 0.0:10.0, # time steps at which measurements are taken\n",
    "                   theta_true = [2.5, 1.1, 3], # [A, ω, ϕ]\n",
    "                   sigma_x = 0.3, # std deviation of measurement errors of x\n",
    "                   sigma_v = 0.2, # std deviation of measurement errors of v\n",
    "                   sigma_t = 0.0 # std deviation of time errors\n",
    "                   )\n",
    "    ns = length(ts)\n",
    "    # add noise to the times:\n",
    "    ts_true = ts + randn(ns)*sigma_t\n",
    "    xv_true = fwd_ana(ts_true, theta_true...)\n",
    "    xs = xv_true[1:2:end]\n",
    "    vs = xv_true[2:2:end]\n",
    "\n",
    "    # add noise\n",
    "    x_measured = xs + sigma_x*randn(ns)\n",
    "    v_measured = vs + sigma_v*randn(ns)\n",
    "    xv_measured = hcat(x_measured ,v_measured)'[:]\n",
    "    A, ω, ϕ = theta_true\n",
    "    return ts, xv_measured, A, ω, ϕ, ts_true, xv_true\n",
    "end;"
   ]
  },
  {
   "cell_type": "markdown",
   "metadata": {},
   "source": [
    "## Plotting and other helpers"
   ]
  },
  {
   "cell_type": "code",
   "execution_count": 10,
   "metadata": {
    "collapsed": false
   },
   "outputs": [
    {
     "data": {
      "text/plain": [
       "plot_violin (generic function with 1 method)"
      ]
     },
     "execution_count": 10,
     "metadata": {},
     "output_type": "execute_result"
    }
   ],
   "source": [
    "\"Unpack a staggered (x,v) vector as returned by the forwardmodel\"\n",
    "unpack_xv(xv::Vector) = (xv[1:2:end], xv[2:2:end])\n",
    "unpack_xv(xv::Matrix) = (xv[1:2:end,:], xv[2:2:end,:])\n",
    "\n",
    "\"Plots the true solution and the noisy synthetic measurements.  Errorbars are two sigma.\"\n",
    "function plotmeasurements(ts_measured, xv_measured, A, ω, ϕ; sigma_x=0.0, sigma_v=0.0, sigma_t=0.0)\n",
    "    x_measured,v_measured = unpack_xv(xv_measured)\n",
    "    t_plot = ts_measured[1]:0.01:ts_measured[end]\n",
    "    x_plot,v_plot = asol(t_plot,A,ω,ϕ)\n",
    "    p1 = plot(t_plot, x_plot, label=\"x\", ylabel=\"x\")\n",
    "    scatter!(ts_measured, x_measured, markercolor=:blue,label=\"x measured\", xerr=2*sigma_t, yerr=2*sigma_x)\n",
    "    p2 = plot(t_plot, v_plot, label=\"v\", ylabel=\"v\", xlabel=\"t\")\n",
    "    scatter!(ts_measured, v_measured, markercolor=:green,label=\"v measured\", xerr=2*sigma_t, yerr=2*sigma_v)\n",
    "    xlims!((0,10))\n",
    "    plot(p1,p2,layout=(2,1),link=:x)\n",
    "end\n",
    "\n",
    "\"Plots the true trajectory, measurments and predictions\"\n",
    "function plot_violin(ts_measured, xv_measured, ts_pred, xv_a, xv_b, A, ω, ϕ;\n",
    "                     sigma_x=0.0, sigma_v=0.0, sigma_t=0.0, t_plot=nothing, pred_inds=nothing,\n",
    "                     pred_inds_sep=nothing, ylims=(-4.5,4.5), size=(600,300))\n",
    "\n",
    "\n",
    "    x_measured,v_measured = unpack_xv(xv_measured)\n",
    "    x_a,v_a = unpack_xv(xv_a)\n",
    "    x_b,v_b = unpack_xv(xv_b)\n",
    "    if pred_inds==nothing\n",
    "        pred_inds = 1:length(ts_pred)\n",
    "    end\n",
    "    if t_plot==nothing\n",
    "        t_plot = min(ts_mebsured[1],ts_pred[1]):0.01:max(ts_pred[end],ts_measured[end])\n",
    "    end\n",
    "    x_plot,v_plot = asol(t_plot,A,ω,ϕ)\n",
    "    p1 = plot(t_plot, x_plot, label=\"x\", ylabel=\"x\")\n",
    "    scatter!(ts_measured, x_measured, markercolor=:blue,label=\"x measured\", xerr=2*sigma_t, yerr=2*sigma_x)\n",
    "    # violins, see https://github.com/tbreloff/Plots.jl/pull/339\n",
    "    violin!(ts_pred[pred_inds], vec(x_a[pred_inds,:]),alpha=0.3, label=\"prediction (a)\")\n",
    "    violin!(ts_pred[pred_inds], vec(x_b[pred_inds,:]),alpha=0.3, label=\"prediction (b)\")\n",
    "    ylims!(ylims)\n",
    "\n",
    "    p2 = plot(t_plot, v_plot, label=\"v\", ylabel=\"v\", xlabel=\"t\")\n",
    "    scatter!(ts_measured, v_measured, markercolor=:green,label=\"v measured\", xerr=2*sigma_t, yerr=2*sigma_v)\n",
    "    violin!(ts_pred[pred_inds], vec(v_a[pred_inds,:]),alpha=0.3, label=\"prediction (a)\")\n",
    "    violin!(ts_pred[pred_inds], vec(v_b[pred_inds,:]),alpha=0.3, label=\"prediction (a)\")\n",
    "    ylims!(ylims)\n",
    "\n",
    "    if pred_inds_sep==nothing\n",
    "        plot(p1,p2,layout=(2,1))\n",
    "    else\n",
    "        ps = [p1,p2]\n",
    "        for i in pred_inds_sep\n",
    "            tp = ts_pred[i]\n",
    "            t_plot = tp-.6:0.01:tp+.6\n",
    "            x_plot,v_plot = asol(t_plot,A,ω,ϕ)\n",
    "            push!(ps, plot(t_plot, x_plot, label=\"x\", ylabel=\"x\"))\n",
    "            violin!(ts_pred[i:i], vec(x_a[i,:]),alpha=0.3, label=\"prediction (a)\")\n",
    "            violin!(ts_pred[i:i], vec(x_b[i,:]),alpha=0.3, label=\"prediction (b)\",\n",
    "                    legend=false)\n",
    "            ylims!(ylims)\n",
    "\n",
    "            push!(ps, plot(t_plot, v_plot, label=\"v\", ylabel=\"v\"))\n",
    "            violin!(ts_pred[i:i], vec(v_a[i,:]),alpha=0.3, label=\"prediction (a)\")\n",
    "            violin!(ts_pred[i:i], vec(v_b[i,:]),alpha=0.3, label=\"prediction (b)\",\n",
    "                    legend=false)\n",
    "            ylims!(ylims)\n",
    "        end\n",
    "        # resorting:\n",
    "        ps = reshape(ps,2,length(ps)÷2)'\n",
    "        ps = ps[:]\n",
    "        ne = length(pred_inds_sep)\n",
    "        widths = vcat(0.6, 0.4/ne*ones(ne))\n",
    "        plot(ps...,layout=grid(2,length(ps)÷2, widths=widths), size=size)\n",
    "    end\n",
    "end"
   ]
  },
  {
   "cell_type": "code",
   "execution_count": 11,
   "metadata": {
    "collapsed": false
   },
   "outputs": [
    {
     "name": "stdout",
     "output_type": "stream",
     "text": [
      "[Plots.jl] Initializing backend: pyplot\n"
     ]
    },
    {
     "data": {
      "text/html": [
       "<img src=\"data:image/png;base64,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\" />"
      ]
     },
     "execution_count": 11,
     "metadata": {},
     "output_type": "execute_result"
    }
   ],
   "source": [
    "using Plots\n",
    "ts_measured, xv_measured, A, ω, ϕ, ts_true, xv_true = make_synthetic_measurements()\n",
    "plotmeasurements(ts_measured,xv_measured,A,ω,ϕ)"
   ]
  },
  {
   "cell_type": "markdown",
   "metadata": {},
   "source": [
    "Plot of the position `x` and velocity `v` of the harmonic oscillator.  Dots are the synthetic measurments."
   ]
  },
  {
   "cell_type": "code",
   "execution_count": null,
   "metadata": {
    "collapsed": true
   },
   "outputs": [],
   "source": []
  }
 ],
 "metadata": {
  "kernelspec": {
   "display_name": "Julia 0.4.5",
   "language": "julia",
   "name": "julia-0.4"
  },
  "language_info": {
   "file_extension": ".jl",
   "mimetype": "application/julia",
   "name": "julia",
   "version": "0.4.6"
  }
 },
 "nbformat": 4,
 "nbformat_minor": 0
}
